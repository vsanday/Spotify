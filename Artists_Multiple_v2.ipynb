{
 "cells": [
  {
   "cell_type": "code",
   "execution_count": 67,
   "id": "6cec9786",
   "metadata": {},
   "outputs": [
    {
     "data": {
      "text/plain": [
       "'/Users/vaibhavsrinivasanday/Documents/Career/PythonStuff/Spotify/Spotify_Python/Spotify_automated/SpotifyPlayList'"
      ]
     },
     "execution_count": 67,
     "metadata": {},
     "output_type": "execute_result"
    }
   ],
   "source": [
    "pwd"
   ]
  },
  {
   "cell_type": "code",
   "execution_count": 68,
   "id": "f274fa99",
   "metadata": {},
   "outputs": [
    {
     "name": "stdout",
     "output_type": "stream",
     "text": [
      "Requirement already satisfied: spotipy in /Users/vaibhavsrinivasanday/opt/anaconda3/lib/python3.8/site-packages (2.19.0)\n",
      "Requirement already satisfied: six>=1.15.0 in /Users/vaibhavsrinivasanday/opt/anaconda3/lib/python3.8/site-packages (from spotipy) (1.15.0)\n",
      "Requirement already satisfied: urllib3>=1.26.0 in /Users/vaibhavsrinivasanday/opt/anaconda3/lib/python3.8/site-packages (from spotipy) (1.26.4)\n",
      "Requirement already satisfied: requests>=2.25.0 in /Users/vaibhavsrinivasanday/opt/anaconda3/lib/python3.8/site-packages (from spotipy) (2.25.1)\n",
      "Requirement already satisfied: certifi>=2017.4.17 in /Users/vaibhavsrinivasanday/opt/anaconda3/lib/python3.8/site-packages (from requests>=2.25.0->spotipy) (2020.12.5)\n",
      "Requirement already satisfied: chardet<5,>=3.0.2 in /Users/vaibhavsrinivasanday/opt/anaconda3/lib/python3.8/site-packages (from requests>=2.25.0->spotipy) (4.0.0)\n",
      "Requirement already satisfied: idna<3,>=2.5 in /Users/vaibhavsrinivasanday/opt/anaconda3/lib/python3.8/site-packages (from requests>=2.25.0->spotipy) (2.10)\n",
      "Note: you may need to restart the kernel to use updated packages.\n"
     ]
    }
   ],
   "source": [
    "pip install spotipy"
   ]
  },
  {
   "cell_type": "code",
   "execution_count": 69,
   "id": "a424ded6",
   "metadata": {},
   "outputs": [
    {
     "name": "stdout",
     "output_type": "stream",
     "text": [
      "Requirement already satisfied: statistics in /Users/vaibhavsrinivasanday/opt/anaconda3/lib/python3.8/site-packages (1.0.3.5)\n",
      "Requirement already satisfied: docutils>=0.3 in /Users/vaibhavsrinivasanday/opt/anaconda3/lib/python3.8/site-packages (from statistics) (0.17)\n",
      "Note: you may need to restart the kernel to use updated packages.\n"
     ]
    }
   ],
   "source": [
    "pip install statistics"
   ]
  },
  {
   "cell_type": "code",
   "execution_count": 70,
   "id": "8569e82d",
   "metadata": {},
   "outputs": [],
   "source": [
    "import spotipy\n",
    "import statistics as st\n",
    "from spotipy.oauth2 import SpotifyClientCredentials\n",
    "import pandas as pd\n",
    "import time\n",
    "import matplotlib.pyplot as plt\n",
    "import numpy as np\n",
    "import base64\n",
    "import datetime\n",
    "from urllib.parse import urlencode\n",
    "import requests"
   ]
  },
  {
   "cell_type": "code",
   "execution_count": 71,
   "id": "b4eaedb8",
   "metadata": {},
   "outputs": [],
   "source": [
    "\n",
    "class SpotifyAPI(object):\n",
    "    access_token = None\n",
    "    access_token_expires = datetime.datetime.now()\n",
    "    access_token_did_expire = True\n",
    "    client_id = None\n",
    "    client_secret = None\n",
    "    token_url = \"https://accounts.spotify.com/api/token\"\n",
    "    \n",
    "    def __init__(self, client_id, client_secret, *args, **kwargs):\n",
    "        super().__init__(*args, **kwargs)\n",
    "        self.client_id = client_id\n",
    "        self.client_secret = client_secret\n",
    "\n",
    "    def get_client_credentials(self):\n",
    "        \"\"\"\n",
    "        Returns a base64 encoded string\n",
    "        \"\"\"\n",
    "        client_id = self.client_id\n",
    "        client_secret = self.client_secret\n",
    "        if client_secret == None or client_id == None:\n",
    "            raise Exception(\"You must set client_id and client_secret\")\n",
    "        client_creds = f\"{client_id}:{client_secret}\"\n",
    "        client_creds_b64 = base64.b64encode(client_creds.encode())\n",
    "        return client_creds_b64.decode()\n",
    "    \n",
    "    def get_token_headers(self):\n",
    "        client_creds_b64 = self.get_client_credentials()\n",
    "        return {\n",
    "            \"Authorization\": f\"Basic {client_creds_b64}\"\n",
    "        }\n",
    "    \n",
    "    def get_token_data(self):\n",
    "        return {\n",
    "            \"grant_type\": \"client_credentials\"\n",
    "        } \n",
    "    \n",
    "    def perform_auth(self):\n",
    "        token_url = self.token_url\n",
    "        token_data = self.get_token_data()\n",
    "        token_headers = self.get_token_headers()\n",
    "        r = requests.post(token_url, data=token_data, headers=token_headers)\n",
    "        if r.status_code not in range(200, 299):\n",
    "            raise Exception(\"Could not authenticate client.\")\n",
    "            # return False\n",
    "        data = r.json()\n",
    "        now = datetime.datetime.now()\n",
    "        access_token = data['access_token']\n",
    "        expires_in = data['expires_in'] # seconds\n",
    "        expires = now + datetime.timedelta(seconds=expires_in)\n",
    "        self.access_token = access_token\n",
    "        self.access_token_expires = expires\n",
    "        self.access_token_did_expire = expires < now\n",
    "        return True\n",
    "    \n",
    "    def get_access_token(self):\n",
    "        token = self.access_token\n",
    "        expires = self.access_token_expires\n",
    "        now = datetime.datetime.now()\n",
    "        if expires < now:\n",
    "            self.perform_auth()\n",
    "            return self.get_access_token()\n",
    "        elif token == None:\n",
    "            self.perform_auth()\n",
    "            return self.get_access_token() \n",
    "        return token\n",
    "    \n",
    "    def get_resource_header(self):\n",
    "        access_token = self.get_access_token()\n",
    "        headers = {\n",
    "            \"Authorization\": f\"Bearer {access_token}\"\n",
    "        }\n",
    "        return headers\n",
    "        \n",
    "        \n",
    "    def get_resource(self, lookup_id, resource_type='albums', version='v1'):\n",
    "        endpoint = f\"https://api.spotify.com/{version}/{resource_type}/{lookup_id}\"\n",
    "        headers = self.get_resource_header()\n",
    "        r = requests.get(endpoint, headers=headers)\n",
    "        if r.status_code not in range(200, 299):\n",
    "            return {}\n",
    "        return r.json()\n",
    "    \n",
    "    def get_album(self, _id):\n",
    "        return self.get_resource(_id, resource_type='albums')\n",
    "    \n",
    "    def get_artist(self, _id):\n",
    "        return self.get_resource(_id, resource_type='artists')\n",
    "    \n",
    "    def base_search(self, query_params): # type\n",
    "        headers = self.get_resource_header()\n",
    "        endpoint = \"https://api.spotify.com/v1/search\"\n",
    "        lookup_url = f\"{endpoint}?{query_params}\"\n",
    "        r = requests.get(lookup_url, headers=headers)\n",
    "        if r.status_code not in range(200, 299):  \n",
    "            return {}\n",
    "        return r.json()\n",
    "    \n",
    "    def search(self, query=None, operator=None, operator_query=None, search_type='artist' ):\n",
    "        if query == None:\n",
    "            raise Exception(\"A query is required\")\n",
    "        if isinstance(query, dict):\n",
    "            query = \" \".join([f\"{k}:{v}\" for k,v in query.items()])\n",
    "        if operator != None and operator_query != None:\n",
    "            if operator.lower() == \"or\" or operator.lower() == \"not\":\n",
    "                operator = operator.upper()\n",
    "                if isinstance(operator_query, str):\n",
    "                    query = f\"{query} {operator} {operator_query}\"\n",
    "        query_params = urlencode({\"q\": query, \"type\": search_type.lower()})\n",
    "        print(query_params)\n",
    "        return self.base_search(query_params)"
   ]
  },
  {
   "cell_type": "code",
   "execution_count": 72,
   "id": "a8859f07",
   "metadata": {},
   "outputs": [],
   "source": [
    "client_id = 'fbfd8e76c5e849d8b438f9abcb9525a7'\n",
    "client_secret = '19d9be5c3f5240368368cc38932de065'\n",
    "\n",
    "client_credentials_manager = SpotifyClientCredentials(client_id, client_secret)\n",
    "sp = spotipy.Spotify(client_credentials_manager=client_credentials_manager)"
   ]
  },
  {
   "cell_type": "code",
   "execution_count": 73,
   "id": "9076155c",
   "metadata": {},
   "outputs": [
    {
     "name": "stdout",
     "output_type": "stream",
     "text": [
      "q=artist%3ACharlie+Puth&type=track\n",
      "q=artist%3AAdele&type=track\n",
      "q=artist%3AJohn+Mayer&type=track\n",
      "['6VuMaDnrHyPL1p4EHjYLi7', '4dpARuHxo51G3z768sgnrY', '0hEurMDQu99nJRq8pTxO14']\n"
     ]
    }
   ],
   "source": [
    "spotify = SpotifyAPI(client_id,client_secret)\n",
    "a='Charlie Puth'\n",
    "b='Adele'\n",
    "c='John Mayer'\n",
    "artist_ids=[]\n",
    "\n",
    "artist_search=['Charlie Puth','Adele','John Mayer']\n",
    "for i in range(0,len(artist_search)):\n",
    "    d2=spotify.search({\"artist\":artist_search[i]},search_type=\"track\")\n",
    "    artist_ids.append(d2['tracks']['items'][0]['artists'][0]['uri'][15:])\n",
    "\n",
    "print(artist_ids)"
   ]
  },
  {
   "cell_type": "code",
   "execution_count": 74,
   "id": "4b4d5ca8",
   "metadata": {
    "scrolled": true
   },
   "outputs": [],
   "source": [
    "#the id here is the artist's Spotify id\n",
    "albums_info=[]\n",
    "artists=artist_ids\n",
    "for i in range(0,len(artists)):\n",
    "    albums_info.append(sp.artist_albums(artists[i]))\n",
    "\n",
    "album_names=[]\n",
    "album_ids=[]\n",
    "for k in range(0,len(albums_info)):\n",
    "    for l in range(0,len(albums_info[k]['items'])):\n",
    "        album_names.append(albums_info[k]['items'][l]['name'])\n",
    "        album_ids.append(albums_info[k]['items'][l]['id'])\n",
    "\n",
    "albums_final=np.array([album_names,album_ids]).T.tolist()"
   ]
  },
  {
   "cell_type": "code",
   "execution_count": 75,
   "id": "79e1e5d1",
   "metadata": {},
   "outputs": [
    {
     "name": "stdout",
     "output_type": "stream",
     "text": [
      "[['Voicenotes', '0mZIUXje90JtHxPNzWsJNR'], ['Nine Track Mind (Deluxe Edition)', '7E4Zm8sWQgkGyOm2v4d9D4'], ['Nine Track Mind (Deluxe Edition)', '1OSzM1OWqtTnmIJJQpn62Q'], ['Nine Track Mind', '5Nwsra93UQYJ6xxcjcE10x'], ['Nine Track Mind', '3kndSWeE2IYOrZEToZrHEV'], ['Nine Track Mind (Special Edition)', '5J4SS8wTmXdyIEVYjmHzpZ'], ['Nine Track Mind', '6E0p38TjcK490itZ1Ns7bD'], ['After All', '3kxT5SN1GQ3j3kS9NHOsYI'], ['Is It Just Me? (feat. Charlie Puth)', '6602j3WLi4WLHAjwGWW6T3'], ['Upside Down (feat. Charlie Puth)', '4rMBOhwN1GY0c2rpOoMU5L'], ['Upside Down (feat. Charlie Puth)', '4bRz24rWmRSSmcbZLsKXrI'], ['Hard On Yourself', '174SAjvfg1fkglW2S9vYkw'], ['Girlfriend (Haywyre Remix)', '4FUohmuUem6INx6ro34nCB'], ['Girlfriend (Live From Corden)', '4bsKJP1sB9EifTeAGF05rf'], ['Free (From Disney\\'s \"The One And Only Ivan\")', '5hDTfO5ce0O7PiSbyLlsmT'], ['Girlfriend', '7AfbvLhUxPt0qOcXB2GTzY'], ['Summer Feelings (feat. Charlie Puth) [Acoustic]', '1HtmKNFx5Lpv2wxNH9to5d'], ['Summer Feelings (feat. Charlie Puth) [Morgan Page Remix]', '0EbhQjwKjqKkDBgC8GAoRR'], ['Summer Feelings (feat. Charlie Puth) [Jengi Remix]', '5P1zf3hBMEz8sS89fLbc3O'], ['Summer Feelings (feat. Charlie Puth)', '4D9M4nzQ9kvchgxyQyymtW'], ['25', '3AvPX1B1HiFROvYjLb5Qwi'], ['25', '6TVfiWmo8KtflUAmkK9gGF'], ['21', '2DAh6Er0J8AxZDu6W1pjAW'], ['21', '5duyQokC4FMcWPYTV9Gpf9'], ['21', '0Lg1uZvI312TPqxNWShFXL'], ['21', '4HYlttFwVHZaz7gguxaN9H'], ['19', '3uftDqGs13LsE1s8nn5XSe'], ['19', '2xNKel55uLwQSCVzc2Jagv'], ['19', '59ULskOkBMij4zL8pS7mi0'], ['19', '5awrJZBt3rP9RO5hlYdZB0'], ['Easy On Me', '224jZ4sUX7OhAuMwaxp86S'], ['Hometown Glory', '1uT2pOgyFOXic7AyGCRCwx'], ['Water Under the Bridge', '6ZilQfkkSA2zY4jeEVygjW'], ['Water Under the Bridge', '4wrmR6foH3E5mv5pKtfi49'], ['Send My Love (To Your New Lover)', '7hplTHLU8PAVs1forXE2NU'], ['Send My Love (To Your New Lover)', '1qAXQcW5Q4yeTQ3Qw4gdRs'], ['When We Were Young', '5Uxy3eGrFAI1VpGRmZIkM7'], ['When We Were Young', '4O4NYLz2t6xEZKVQlLIYLg'], ['Hello', '1AQeCbBbT0sjUesGYkTqLs'], ['Hello', '5givPbMFm0AMPUYWulmbzg'], ['Sob Rock', '2JmfwvRDitJlTUoLCkp61z'], ['The Search for Everything', '0jZFu2tihRJ65iYAo0oOtP'], ['Paradise Valley', '712VoD72K500yLhhgqCyVe'], ['Born and Raised', '6S0BIiWtnqU0PtumXMpin0'], ['Battle Studies', '1V5vQRMWTNGmqwxY8jMVou'], ['Where the Light Is: John Mayer Live In Los Angeles', '4Dgxy95K9BWkDUvQPTaYBb'], ['Continuum', '1Xsprdt1q9rOzTic7b9zYM'], ['As/Is - Live', '1QRIX6BuSGegYwiAZOv4R5'], ['As/Is: Live In Cleveland/Cincinnati, OH - 8/03-8/04/04', '0u3x6X6FRE23fJEhPJoo6Q'], ['As/Is: Houston, TX - 7/24/04', '4rBHg7R3tDXJirsOrp4vG4'], ['As/Is: Live In Philadelphia, PA/Hartford, CT - 8/14-8/15/04', '1hC2L9ZBeCSUsh6w3xzqN7'], ['As/Is: Live In Houston, TX - 7/24/04', '5gsTckUr9I4z7uFHMheffb'], ['As/Is: Live In Mountain View, CA - 7/16/04', '4ZxNekqkeVlCYcNdD0mnD7'], ['Heavier Things', '6WivmTXugLZLmAWnZhlz7g'], ['Any Given Thursday', '31Q7DQ751hbCO98r1ODhGt'], ['Room For Squares', '3yHOaiXecTJVUdn7mApZ48'], ['Inside Wants Out', '5KMP6XLSrhsswEuN2A9VO2'], ['Last Train Home (Ballad Version)', '4qI7QOLeKaYr0OtqjCXi7d'], ['Inside Friend (feat. John Mayer)', '2zYmSJZxBTCvDYBAEcixyV'], ['New Light (Zookëper Remix)', '2KW0btTto2vHPpnGdWZTaI']]\n"
     ]
    }
   ],
   "source": [
    "len(albums_final)\n",
    "print(albums_final)"
   ]
  },
  {
   "cell_type": "code",
   "execution_count": 76,
   "id": "167ce1f3",
   "metadata": {},
   "outputs": [],
   "source": [
    "#album_songs=[]\n",
    "album_songs_name=[]\n",
    "album_songs_id=[]\n",
    "album_ids=[]\n",
    "album_ids_new=[]\n",
    "#Loop through to get the album ids for each album\n",
    "for k in range(0,len(albums_final)):\n",
    "    album_ids.append(albums_final[k][1])\n",
    "    \n",
    "for j in range(0,len(album_ids)):\n",
    "    test=sp.album_tracks(album_ids[j])\n",
    "    for i in range(0,len(test['items'])):\n",
    "        album_songs_name.append(test['items'][i]['name'])\n",
    "        album_songs_id.append(test['items'][i]['id'])\n",
    "        \n",
    "albums_songs_f=np.array([album_songs_name,album_songs_id]).T.tolist()\n",
    "#print(len(album_songs_final))\n",
    "#print(album_songs_final)\n",
    "#print(np.array([album_songs_name,album_songs_id]).T.tolist())"
   ]
  },
  {
   "cell_type": "code",
   "execution_count": 77,
   "id": "6f5aa7ea",
   "metadata": {},
   "outputs": [],
   "source": [
    "def getTrackFeatures(id):\n",
    "  meta = sp.track(id)\n",
    "  features = sp.audio_features(id)\n",
    "\n",
    "  # meta\n",
    "  name = meta['name']\n",
    "  album = meta['album']['name']\n",
    "  artist = meta['album']['artists'][0]['name']\n",
    "  release_date = meta['album']['release_date']\n",
    "  length = meta['duration_ms']\n",
    "  popularity = meta['popularity']\n",
    "\n",
    "  # features\n",
    "  acousticness = features[0]['acousticness']\n",
    "  danceability = features[0]['danceability']\n",
    "  energy = features[0]['energy']\n",
    "  instrumentalness = features[0]['instrumentalness']\n",
    "  liveness = features[0]['liveness']\n",
    "  loudness = features[0]['loudness']\n",
    "  speechiness = features[0]['speechiness']\n",
    "  tempo = features[0]['tempo']\n",
    "  time_signature = features[0]['time_signature']\n",
    "\n",
    "  track = [name, album, artist, release_date, length, popularity, acousticness, danceability, energy, instrumentalness, liveness, loudness, speechiness, tempo, time_signature]\n",
    "  return track"
   ]
  },
  {
   "cell_type": "code",
   "execution_count": 78,
   "id": "7bd328a7",
   "metadata": {},
   "outputs": [],
   "source": [
    "songs_details=[]\n",
    "for i in range(0,len(albums_songs_f)):\n",
    "    songs_details.append(getTrackFeatures(albums_songs_f[i][1]))\n",
    "    \n",
    "\n",
    "df = pd.DataFrame(songs_details, columns = ['name', 'album', 'artist', 'release_date', 'length', 'popularity', 'acousticness', 'danceability', 'energy', 'instrumentalness', 'liveness', 'loudness', 'speechiness', 'tempo', 'time_signature'])\n",
    "#df.to_csv(\"spotify_Charlie.csv\", sep = ',')"
   ]
  },
  {
   "cell_type": "code",
   "execution_count": 79,
   "id": "ff279d34",
   "metadata": {},
   "outputs": [
    {
     "data": {
      "text/html": [
       "<div>\n",
       "<style scoped>\n",
       "    .dataframe tbody tr th:only-of-type {\n",
       "        vertical-align: middle;\n",
       "    }\n",
       "\n",
       "    .dataframe tbody tr th {\n",
       "        vertical-align: top;\n",
       "    }\n",
       "\n",
       "    .dataframe thead th {\n",
       "        text-align: right;\n",
       "    }\n",
       "</style>\n",
       "<table border=\"1\" class=\"dataframe\">\n",
       "  <thead>\n",
       "    <tr style=\"text-align: right;\">\n",
       "      <th></th>\n",
       "      <th>name</th>\n",
       "      <th>album</th>\n",
       "      <th>artist</th>\n",
       "      <th>release_date</th>\n",
       "      <th>length</th>\n",
       "      <th>popularity</th>\n",
       "      <th>acousticness</th>\n",
       "      <th>danceability</th>\n",
       "      <th>energy</th>\n",
       "      <th>instrumentalness</th>\n",
       "      <th>liveness</th>\n",
       "      <th>loudness</th>\n",
       "      <th>speechiness</th>\n",
       "      <th>tempo</th>\n",
       "      <th>time_signature</th>\n",
       "    </tr>\n",
       "  </thead>\n",
       "  <tbody>\n",
       "    <tr>\n",
       "      <th>0</th>\n",
       "      <td>The Way I Am</td>\n",
       "      <td>Voicenotes</td>\n",
       "      <td>Charlie Puth</td>\n",
       "      <td>2018-05-11</td>\n",
       "      <td>186080</td>\n",
       "      <td>64</td>\n",
       "      <td>0.3140</td>\n",
       "      <td>0.755</td>\n",
       "      <td>0.7690</td>\n",
       "      <td>0.000002</td>\n",
       "      <td>0.0628</td>\n",
       "      <td>-5.658</td>\n",
       "      <td>0.1860</td>\n",
       "      <td>114.966</td>\n",
       "      <td>4</td>\n",
       "    </tr>\n",
       "    <tr>\n",
       "      <th>1</th>\n",
       "      <td>Attention</td>\n",
       "      <td>Voicenotes</td>\n",
       "      <td>Charlie Puth</td>\n",
       "      <td>2018-05-11</td>\n",
       "      <td>208786</td>\n",
       "      <td>81</td>\n",
       "      <td>0.1090</td>\n",
       "      <td>0.775</td>\n",
       "      <td>0.6130</td>\n",
       "      <td>0.000023</td>\n",
       "      <td>0.1340</td>\n",
       "      <td>-4.586</td>\n",
       "      <td>0.0542</td>\n",
       "      <td>100.066</td>\n",
       "      <td>4</td>\n",
       "    </tr>\n",
       "    <tr>\n",
       "      <th>2</th>\n",
       "      <td>LA Girls</td>\n",
       "      <td>Voicenotes</td>\n",
       "      <td>Charlie Puth</td>\n",
       "      <td>2018-05-11</td>\n",
       "      <td>197106</td>\n",
       "      <td>58</td>\n",
       "      <td>0.3590</td>\n",
       "      <td>0.869</td>\n",
       "      <td>0.6420</td>\n",
       "      <td>0.000001</td>\n",
       "      <td>0.0694</td>\n",
       "      <td>-5.030</td>\n",
       "      <td>0.0367</td>\n",
       "      <td>99.992</td>\n",
       "      <td>4</td>\n",
       "    </tr>\n",
       "    <tr>\n",
       "      <th>3</th>\n",
       "      <td>How Long</td>\n",
       "      <td>Voicenotes</td>\n",
       "      <td>Charlie Puth</td>\n",
       "      <td>2018-05-11</td>\n",
       "      <td>200853</td>\n",
       "      <td>73</td>\n",
       "      <td>0.2110</td>\n",
       "      <td>0.845</td>\n",
       "      <td>0.5610</td>\n",
       "      <td>0.000003</td>\n",
       "      <td>0.0383</td>\n",
       "      <td>-5.253</td>\n",
       "      <td>0.0778</td>\n",
       "      <td>109.974</td>\n",
       "      <td>4</td>\n",
       "    </tr>\n",
       "    <tr>\n",
       "      <th>4</th>\n",
       "      <td>Done for Me (feat. Kehlani)</td>\n",
       "      <td>Voicenotes</td>\n",
       "      <td>Charlie Puth</td>\n",
       "      <td>2018-05-11</td>\n",
       "      <td>180493</td>\n",
       "      <td>68</td>\n",
       "      <td>0.1930</td>\n",
       "      <td>0.856</td>\n",
       "      <td>0.6320</td>\n",
       "      <td>0.000000</td>\n",
       "      <td>0.0688</td>\n",
       "      <td>-3.692</td>\n",
       "      <td>0.0740</td>\n",
       "      <td>112.009</td>\n",
       "      <td>4</td>\n",
       "    </tr>\n",
       "    <tr>\n",
       "      <th>...</th>\n",
       "      <td>...</td>\n",
       "      <td>...</td>\n",
       "      <td>...</td>\n",
       "      <td>...</td>\n",
       "      <td>...</td>\n",
       "      <td>...</td>\n",
       "      <td>...</td>\n",
       "      <td>...</td>\n",
       "      <td>...</td>\n",
       "      <td>...</td>\n",
       "      <td>...</td>\n",
       "      <td>...</td>\n",
       "      <td>...</td>\n",
       "      <td>...</td>\n",
       "      <td>...</td>\n",
       "    </tr>\n",
       "    <tr>\n",
       "      <th>458</th>\n",
       "      <td>Comfortable - EP Version</td>\n",
       "      <td>Inside Wants Out</td>\n",
       "      <td>John Mayer</td>\n",
       "      <td>1999-09-24</td>\n",
       "      <td>299333</td>\n",
       "      <td>52</td>\n",
       "      <td>0.8060</td>\n",
       "      <td>0.328</td>\n",
       "      <td>0.1290</td>\n",
       "      <td>0.000004</td>\n",
       "      <td>0.1050</td>\n",
       "      <td>-13.523</td>\n",
       "      <td>0.0286</td>\n",
       "      <td>84.730</td>\n",
       "      <td>4</td>\n",
       "    </tr>\n",
       "    <tr>\n",
       "      <th>459</th>\n",
       "      <td>Quiet - EP Version</td>\n",
       "      <td>Inside Wants Out</td>\n",
       "      <td>John Mayer</td>\n",
       "      <td>1999-09-24</td>\n",
       "      <td>200533</td>\n",
       "      <td>39</td>\n",
       "      <td>0.7750</td>\n",
       "      <td>0.557</td>\n",
       "      <td>0.0695</td>\n",
       "      <td>0.000089</td>\n",
       "      <td>0.1040</td>\n",
       "      <td>-14.110</td>\n",
       "      <td>0.0383</td>\n",
       "      <td>103.230</td>\n",
       "      <td>3</td>\n",
       "    </tr>\n",
       "    <tr>\n",
       "      <th>460</th>\n",
       "      <td>Last Train Home - Ballad Version</td>\n",
       "      <td>Last Train Home (Ballad Version)</td>\n",
       "      <td>John Mayer</td>\n",
       "      <td>2021-10-29</td>\n",
       "      <td>357705</td>\n",
       "      <td>62</td>\n",
       "      <td>0.4490</td>\n",
       "      <td>0.298</td>\n",
       "      <td>0.4360</td>\n",
       "      <td>0.371000</td>\n",
       "      <td>0.1000</td>\n",
       "      <td>-9.727</td>\n",
       "      <td>0.0512</td>\n",
       "      <td>78.207</td>\n",
       "      <td>4</td>\n",
       "    </tr>\n",
       "    <tr>\n",
       "      <th>461</th>\n",
       "      <td>Inside Friend (feat. John Mayer)</td>\n",
       "      <td>Inside Friend (feat. John Mayer)</td>\n",
       "      <td>Leon Bridges</td>\n",
       "      <td>2020-04-10</td>\n",
       "      <td>175432</td>\n",
       "      <td>63</td>\n",
       "      <td>0.4480</td>\n",
       "      <td>0.693</td>\n",
       "      <td>0.2590</td>\n",
       "      <td>0.000135</td>\n",
       "      <td>0.0995</td>\n",
       "      <td>-7.918</td>\n",
       "      <td>0.0372</td>\n",
       "      <td>88.972</td>\n",
       "      <td>4</td>\n",
       "    </tr>\n",
       "    <tr>\n",
       "      <th>462</th>\n",
       "      <td>New Light - Zookëper Remix</td>\n",
       "      <td>New Light (Zookëper Remix)</td>\n",
       "      <td>John Mayer</td>\n",
       "      <td>2018-08-10</td>\n",
       "      <td>237933</td>\n",
       "      <td>45</td>\n",
       "      <td>0.0103</td>\n",
       "      <td>0.709</td>\n",
       "      <td>0.9390</td>\n",
       "      <td>0.084500</td>\n",
       "      <td>0.0936</td>\n",
       "      <td>-4.460</td>\n",
       "      <td>0.0542</td>\n",
       "      <td>124.000</td>\n",
       "      <td>4</td>\n",
       "    </tr>\n",
       "  </tbody>\n",
       "</table>\n",
       "<p>463 rows × 15 columns</p>\n",
       "</div>"
      ],
      "text/plain": [
       "                                 name                             album  \\\n",
       "0                        The Way I Am                        Voicenotes   \n",
       "1                           Attention                        Voicenotes   \n",
       "2                            LA Girls                        Voicenotes   \n",
       "3                            How Long                        Voicenotes   \n",
       "4         Done for Me (feat. Kehlani)                        Voicenotes   \n",
       "..                                ...                               ...   \n",
       "458          Comfortable - EP Version                  Inside Wants Out   \n",
       "459                Quiet - EP Version                  Inside Wants Out   \n",
       "460  Last Train Home - Ballad Version  Last Train Home (Ballad Version)   \n",
       "461  Inside Friend (feat. John Mayer)  Inside Friend (feat. John Mayer)   \n",
       "462        New Light - Zookëper Remix        New Light (Zookëper Remix)   \n",
       "\n",
       "           artist release_date  length  popularity  acousticness  \\\n",
       "0    Charlie Puth   2018-05-11  186080          64        0.3140   \n",
       "1    Charlie Puth   2018-05-11  208786          81        0.1090   \n",
       "2    Charlie Puth   2018-05-11  197106          58        0.3590   \n",
       "3    Charlie Puth   2018-05-11  200853          73        0.2110   \n",
       "4    Charlie Puth   2018-05-11  180493          68        0.1930   \n",
       "..            ...          ...     ...         ...           ...   \n",
       "458    John Mayer   1999-09-24  299333          52        0.8060   \n",
       "459    John Mayer   1999-09-24  200533          39        0.7750   \n",
       "460    John Mayer   2021-10-29  357705          62        0.4490   \n",
       "461  Leon Bridges   2020-04-10  175432          63        0.4480   \n",
       "462    John Mayer   2018-08-10  237933          45        0.0103   \n",
       "\n",
       "     danceability  energy  instrumentalness  liveness  loudness  speechiness  \\\n",
       "0           0.755  0.7690          0.000002    0.0628    -5.658       0.1860   \n",
       "1           0.775  0.6130          0.000023    0.1340    -4.586       0.0542   \n",
       "2           0.869  0.6420          0.000001    0.0694    -5.030       0.0367   \n",
       "3           0.845  0.5610          0.000003    0.0383    -5.253       0.0778   \n",
       "4           0.856  0.6320          0.000000    0.0688    -3.692       0.0740   \n",
       "..            ...     ...               ...       ...       ...          ...   \n",
       "458         0.328  0.1290          0.000004    0.1050   -13.523       0.0286   \n",
       "459         0.557  0.0695          0.000089    0.1040   -14.110       0.0383   \n",
       "460         0.298  0.4360          0.371000    0.1000    -9.727       0.0512   \n",
       "461         0.693  0.2590          0.000135    0.0995    -7.918       0.0372   \n",
       "462         0.709  0.9390          0.084500    0.0936    -4.460       0.0542   \n",
       "\n",
       "       tempo  time_signature  \n",
       "0    114.966               4  \n",
       "1    100.066               4  \n",
       "2     99.992               4  \n",
       "3    109.974               4  \n",
       "4    112.009               4  \n",
       "..       ...             ...  \n",
       "458   84.730               4  \n",
       "459  103.230               3  \n",
       "460   78.207               4  \n",
       "461   88.972               4  \n",
       "462  124.000               4  \n",
       "\n",
       "[463 rows x 15 columns]"
      ]
     },
     "execution_count": 79,
     "metadata": {},
     "output_type": "execute_result"
    }
   ],
   "source": [
    "df"
   ]
  },
  {
   "cell_type": "code",
   "execution_count": 80,
   "id": "d5a2cc49",
   "metadata": {},
   "outputs": [],
   "source": [
    "###Connection to Google Sheets###"
   ]
  },
  {
   "cell_type": "code",
   "execution_count": 81,
   "id": "8ab7e67e",
   "metadata": {},
   "outputs": [],
   "source": [
    "import gspread\n",
    "from oauth2client.service_account import ServiceAccountCredentials\n",
    "from pprint import pprint"
   ]
  },
  {
   "cell_type": "code",
   "execution_count": 82,
   "id": "7bc7b340",
   "metadata": {},
   "outputs": [],
   "source": [
    "scope = [\"https://spreadsheets.google.com/feeds\"\n",
    "         ,'https://www.googleapis.com/auth/spreadsheets'\n",
    "         ,\"https://www.googleapis.com/auth/drive.file\"\n",
    "         ,\"https://www.googleapis.com/auth/drive\"]"
   ]
  },
  {
   "cell_type": "code",
   "execution_count": 83,
   "id": "ade91b64",
   "metadata": {},
   "outputs": [],
   "source": [
    "creds = ServiceAccountCredentials.from_json_keyfile_name(\"creds.json\", scope)"
   ]
  },
  {
   "cell_type": "code",
   "execution_count": 126,
   "id": "d2f6b8ba",
   "metadata": {},
   "outputs": [],
   "source": [
    "client = gspread.authorize(creds)"
   ]
  },
  {
   "cell_type": "code",
   "execution_count": 127,
   "id": "455901c5",
   "metadata": {},
   "outputs": [],
   "source": [
    "sheet = client.open(\"SpotifyPythonData-PythonAPI\").sheet1"
   ]
  },
  {
   "cell_type": "code",
   "execution_count": 128,
   "id": "d923f9b4",
   "metadata": {},
   "outputs": [
    {
     "data": {
      "text/plain": [
       "{'spreadsheetId': '1QBEdAv6rnyyjGt4kVbdW8Ue8bcCSIyVxMtrv7nj-5vk',\n",
       " 'clearedRanges': ['spotify_artists!A2:V1657']}"
      ]
     },
     "execution_count": 128,
     "metadata": {},
     "output_type": "execute_result"
    }
   ],
   "source": [
    "sheet.batch_clear([\"A2:V\"])"
   ]
  },
  {
   "cell_type": "code",
   "execution_count": 129,
   "id": "3b77552b",
   "metadata": {},
   "outputs": [],
   "source": [
    "data = sheet.get_all_records()"
   ]
  },
  {
   "cell_type": "code",
   "execution_count": 130,
   "id": "0e304c90",
   "metadata": {},
   "outputs": [
    {
     "data": {
      "text/plain": [
       "{'spreadsheetId': '1QBEdAv6rnyyjGt4kVbdW8Ue8bcCSIyVxMtrv7nj-5vk',\n",
       " 'updates': {'spreadsheetId': '1QBEdAv6rnyyjGt4kVbdW8Ue8bcCSIyVxMtrv7nj-5vk',\n",
       "  'updatedRange': 'spotify_artists!A2:O464',\n",
       "  'updatedRows': 463,\n",
       "  'updatedColumns': 15,\n",
       "  'updatedCells': 6945}}"
      ]
     },
     "execution_count": 130,
     "metadata": {},
     "output_type": "execute_result"
    }
   ],
   "source": [
    "insertRow = songs_details\n",
    "sheet.insert_rows(insertRow,2)\n",
    "#sheet.add_rows(insertRow)"
   ]
  },
  {
   "cell_type": "code",
   "execution_count": 120,
   "id": "ae23a644",
   "metadata": {},
   "outputs": [
    {
     "data": {
      "text/plain": [
       "list"
      ]
     },
     "execution_count": 120,
     "metadata": {},
     "output_type": "execute_result"
    }
   ],
   "source": []
  },
  {
   "cell_type": "code",
   "execution_count": null,
   "id": "a78c5e92",
   "metadata": {},
   "outputs": [],
   "source": []
  }
 ],
 "metadata": {
  "kernelspec": {
   "display_name": "Python 3",
   "language": "python",
   "name": "python3"
  },
  "language_info": {
   "codemirror_mode": {
    "name": "ipython",
    "version": 3
   },
   "file_extension": ".py",
   "mimetype": "text/x-python",
   "name": "python",
   "nbconvert_exporter": "python",
   "pygments_lexer": "ipython3",
   "version": "3.8.8"
  }
 },
 "nbformat": 4,
 "nbformat_minor": 5
}
