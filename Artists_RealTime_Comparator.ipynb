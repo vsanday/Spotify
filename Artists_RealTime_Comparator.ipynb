{
 "cells": [
  {
   "cell_type": "code",
   "execution_count": 341,
   "id": "6cec9786",
   "metadata": {
    "tags": []
   },
   "outputs": [
    {
     "data": {
      "text/plain": [
       "'/home/jupyter/Spotify'"
      ]
     },
     "execution_count": 341,
     "metadata": {},
     "output_type": "execute_result"
    }
   ],
   "source": [
    "pwd"
   ]
  },
  {
   "cell_type": "code",
   "execution_count": 342,
   "id": "77297c47-2860-4dd4-b845-bbd67710cb79",
   "metadata": {},
   "outputs": [],
   "source": [
    "## Artists to compare\n",
    "artists_for_analysis=['Megan Thee Stallion','Benee','Lil Nas X','BTS','Doja Cat','Olivia Rodrigo']"
   ]
  },
  {
   "cell_type": "code",
   "execution_count": 343,
   "id": "f274fa99",
   "metadata": {
    "tags": []
   },
   "outputs": [
    {
     "name": "stdout",
     "output_type": "stream",
     "text": [
      "Requirement already satisfied: spotipy in /opt/conda/lib/python3.7/site-packages (2.19.0)\n",
      "Requirement already satisfied: urllib3>=1.26.0 in /opt/conda/lib/python3.7/site-packages (from spotipy) (1.26.7)\n",
      "Requirement already satisfied: six>=1.15.0 in /opt/conda/lib/python3.7/site-packages (from spotipy) (1.16.0)\n",
      "Requirement already satisfied: requests>=2.25.0 in /opt/conda/lib/python3.7/site-packages (from spotipy) (2.25.1)\n",
      "Requirement already satisfied: idna<3,>=2.5 in /opt/conda/lib/python3.7/site-packages (from requests>=2.25.0->spotipy) (2.10)\n",
      "Requirement already satisfied: chardet<5,>=3.0.2 in /opt/conda/lib/python3.7/site-packages (from requests>=2.25.0->spotipy) (4.0.0)\n",
      "Requirement already satisfied: certifi>=2017.4.17 in /opt/conda/lib/python3.7/site-packages (from requests>=2.25.0->spotipy) (2021.10.8)\n",
      "Note: you may need to restart the kernel to use updated packages.\n"
     ]
    }
   ],
   "source": [
    "pip install spotipy"
   ]
  },
  {
   "cell_type": "code",
   "execution_count": 344,
   "id": "a424ded6",
   "metadata": {
    "tags": []
   },
   "outputs": [
    {
     "name": "stdout",
     "output_type": "stream",
     "text": [
      "Requirement already satisfied: statistics in /opt/conda/lib/python3.7/site-packages (1.0.3.5)\n",
      "Requirement already satisfied: docutils>=0.3 in /opt/conda/lib/python3.7/site-packages (from statistics) (0.18)\n",
      "Note: you may need to restart the kernel to use updated packages.\n"
     ]
    }
   ],
   "source": [
    "pip install statistics"
   ]
  },
  {
   "cell_type": "code",
   "execution_count": 345,
   "id": "8569e82d",
   "metadata": {
    "tags": []
   },
   "outputs": [],
   "source": [
    "import spotipy\n",
    "import statistics as st\n",
    "from spotipy.oauth2 import SpotifyClientCredentials\n",
    "import pandas as pd\n",
    "import time\n",
    "import matplotlib.pyplot as plt\n",
    "import numpy as np\n",
    "import base64\n",
    "import datetime\n",
    "from urllib.parse import urlencode\n",
    "import requests"
   ]
  },
  {
   "cell_type": "code",
   "execution_count": 346,
   "id": "b4eaedb8",
   "metadata": {
    "tags": []
   },
   "outputs": [],
   "source": [
    "## SpotifyAPI, Official API to pull data\n",
    "## Original source code on github: https://github.com/codingforentrepreneurs/30-Days-of-Python/tree/master/tutorial-reference/Day%2019\n",
    "## Credit: codingforentrepreneurs\n",
    "\n",
    "\n",
    "class SpotifyAPI(object):\n",
    "    access_token = None\n",
    "    access_token_expires = datetime.datetime.now()\n",
    "    access_token_did_expire = True\n",
    "    client_id = None\n",
    "    client_secret = None\n",
    "    token_url = \"https://accounts.spotify.com/api/token\"\n",
    "    \n",
    "    def __init__(self, client_id, client_secret, *args, **kwargs):\n",
    "        super().__init__(*args, **kwargs)\n",
    "        self.client_id = client_id\n",
    "        self.client_secret = client_secret\n",
    "\n",
    "    def get_client_credentials(self):\n",
    "        \"\"\"\n",
    "        Returns a base64 encoded string\n",
    "        \"\"\"\n",
    "        client_id = self.client_id\n",
    "        client_secret = self.client_secret\n",
    "        if client_secret == None or client_id == None:\n",
    "            raise Exception(\"You must set client_id and client_secret\")\n",
    "        client_creds = f\"{client_id}:{client_secret}\"\n",
    "        client_creds_b64 = base64.b64encode(client_creds.encode())\n",
    "        return client_creds_b64.decode()\n",
    "    \n",
    "    def get_token_headers(self):\n",
    "        client_creds_b64 = self.get_client_credentials()\n",
    "        return {\n",
    "            \"Authorization\": f\"Basic {client_creds_b64}\"\n",
    "        }\n",
    "    \n",
    "    def get_token_data(self):\n",
    "        return {\n",
    "            \"grant_type\": \"client_credentials\"\n",
    "        } \n",
    "    \n",
    "    def perform_auth(self):\n",
    "        token_url = self.token_url\n",
    "        token_data = self.get_token_data()\n",
    "        token_headers = self.get_token_headers()\n",
    "        r = requests.post(token_url, data=token_data, headers=token_headers)\n",
    "        if r.status_code not in range(200, 299):\n",
    "            raise Exception(\"Could not authenticate client.\")\n",
    "            # return False\n",
    "        data = r.json()\n",
    "        now = datetime.datetime.now()\n",
    "        access_token = data['access_token']\n",
    "        expires_in = data['expires_in'] # seconds\n",
    "        expires = now + datetime.timedelta(seconds=expires_in)\n",
    "        self.access_token = access_token\n",
    "        self.access_token_expires = expires\n",
    "        self.access_token_did_expire = expires < now\n",
    "        return True\n",
    "    \n",
    "    def get_access_token(self):\n",
    "        token = self.access_token\n",
    "        expires = self.access_token_expires\n",
    "        now = datetime.datetime.now()\n",
    "        if expires < now:\n",
    "            self.perform_auth()\n",
    "            return self.get_access_token()\n",
    "        elif token == None:\n",
    "            self.perform_auth()\n",
    "            return self.get_access_token() \n",
    "        return token\n",
    "    \n",
    "    def get_resource_header(self):\n",
    "        access_token = self.get_access_token()\n",
    "        headers = {\n",
    "            \"Authorization\": f\"Bearer {access_token}\"\n",
    "        }\n",
    "        return headers\n",
    "        \n",
    "        \n",
    "    def get_resource(self, lookup_id, resource_type='albums', version='v1'):\n",
    "        endpoint = f\"https://api.spotify.com/{version}/{resource_type}/{lookup_id}\"\n",
    "        headers = self.get_resource_header()\n",
    "        r = requests.get(endpoint, headers=headers)\n",
    "        if r.status_code not in range(200, 299):\n",
    "            return {}\n",
    "        return r.json()\n",
    "    \n",
    "    def get_album(self, _id):\n",
    "        return self.get_resource(_id, resource_type='albums')\n",
    "    \n",
    "    def get_artist(self, _id):\n",
    "        return self.get_resource(_id, resource_type='artists')\n",
    "    \n",
    "    def base_search(self, query_params): # type\n",
    "        headers = self.get_resource_header()\n",
    "        endpoint = \"https://api.spotify.com/v1/search\"\n",
    "        lookup_url = f\"{endpoint}?{query_params}\"\n",
    "        r = requests.get(lookup_url, headers=headers)\n",
    "        if r.status_code not in range(200, 299):  \n",
    "            return {}\n",
    "        return r.json()\n",
    "    \n",
    "    def search(self, query=None, operator=None, operator_query=None, search_type='artist' ):\n",
    "        if query == None:\n",
    "            raise Exception(\"A query is required\")\n",
    "        if isinstance(query, dict):\n",
    "            query = \" \".join([f\"{k}:{v}\" for k,v in query.items()])\n",
    "        if operator != None and operator_query != None:\n",
    "            if operator.lower() == \"or\" or operator.lower() == \"not\":\n",
    "                operator = operator.upper()\n",
    "                if isinstance(operator_query, str):\n",
    "                    query = f\"{query} {operator} {operator_query}\"\n",
    "        query_params = urlencode({\"q\": query, \"type\": search_type.lower()})\n",
    "        print(query_params)\n",
    "        return self.base_search(query_params)"
   ]
  },
  {
   "cell_type": "code",
   "execution_count": 347,
   "id": "a8859f07",
   "metadata": {
    "tags": []
   },
   "outputs": [],
   "source": [
    "client_id = '",
    "client_secret = '",
    "\n",
    "client_credentials_manager = SpotifyClientCredentials(client_id, client_secret)\n",
    "sp = spotipy.Spotify(client_credentials_manager=client_credentials_manager)"
   ]
  },
  {
   "cell_type": "code",
   "execution_count": 348,
   "id": "9076155c",
   "metadata": {
    "tags": []
   },
   "outputs": [
    {
     "name": "stdout",
     "output_type": "stream",
     "text": [
      "q=artist%3AMegan+Thee+Stallion&type=track\n",
      "q=artist%3ABenee&type=track\n",
      "q=artist%3ALil+Nas+X&type=track\n",
      "q=artist%3ABTS&type=track\n",
      "q=artist%3ADoja+Cat&type=track\n",
      "q=artist%3AOlivia+Rodrigo&type=track\n",
      "['181bsRPaVXVlUKXrxwZfHK', '0Cp8WN4V8Tu4QJQwCN5Md4', '7jVv8c5Fj3E9VhNjxT4snq', '3Nrfpe0tUJi4K4DXYWgMUX', '5cj0lLjcoR7YOSnhnX0Po5', '1McMsnEElThX1knmY4oliG']\n"
     ]
    }
   ],
   "source": [
    "spotify = SpotifyAPI(client_id,client_secret)\n",
    "artist_ids=[]\n",
    "artist_search=artists_for_analysis\n",
    "for i in range(0,len(artist_search)):\n",
    "    d2=spotify.search({\"artist\":artist_search[i]},search_type=\"track\")\n",
    "    artist_ids.append(d2['tracks']['items'][0]['artists'][0]['uri'][15:])\n",
    "\n",
    "print(artist_ids)"
   ]
  },
  {
   "cell_type": "code",
   "execution_count": 349,
   "id": "4b4d5ca8",
   "metadata": {
    "scrolled": true,
    "tags": []
   },
   "outputs": [],
   "source": [
    "#the id here is the artist's Spotify id\n",
    "albums_info=[]\n",
    "artists=artist_ids\n",
    "for i in range(0,len(artists)):\n",
    "    albums_info.append(sp.artist_albums(artists[i]))\n",
    "\n",
    "album_names=[]\n",
    "album_ids=[]\n",
    "for k in range(0,len(albums_info)):\n",
    "    for l in range(0,len(albums_info[k]['items'])):\n",
    "        album_names.append(albums_info[k]['items'][l]['name'])\n",
    "        album_ids.append(albums_info[k]['items'][l]['id'])\n",
    "\n",
    "albums_final=np.array([album_names,album_ids]).T.tolist()"
   ]
  },
  {
   "cell_type": "code",
   "execution_count": 350,
   "id": "79e1e5d1",
   "metadata": {
    "tags": []
   },
   "outputs": [
    {
     "data": {
      "text/plain": [
       "120"
      ]
     },
     "execution_count": 350,
     "metadata": {},
     "output_type": "execute_result"
    }
   ],
   "source": [
    "len(albums_final)\n",
    "#print(albums_final)"
   ]
  },
  {
   "cell_type": "code",
   "execution_count": 351,
   "id": "167ce1f3",
   "metadata": {
    "tags": []
   },
   "outputs": [],
   "source": [
    "#album_songs=[]\n",
    "album_songs_name=[]\n",
    "album_songs_id=[]\n",
    "album_ids=[]\n",
    "album_ids_new=[]\n",
    "#Loop through to get the album ids for each album\n",
    "for k in range(0,len(albums_final)):\n",
    "    album_ids.append(albums_final[k][1])\n",
    "    \n",
    "for j in range(0,len(album_ids)):\n",
    "    test=sp.album_tracks(album_ids[j])\n",
    "    for i in range(0,len(test['items'])):\n",
    "        album_songs_name.append(test['items'][i]['name'])\n",
    "        album_songs_id.append(test['items'][i]['id'])\n",
    "        \n",
    "albums_songs_f=np.array([album_songs_name,album_songs_id]).T.tolist()\n",
    "#print(len(album_songs_final))\n",
    "#print(album_songs_final)\n",
    "#print(np.array([album_songs_name,album_songs_id]).T.tolist())"
   ]
  },
  {
   "cell_type": "code",
   "execution_count": 352,
   "id": "6f5aa7ea",
   "metadata": {
    "tags": []
   },
   "outputs": [],
   "source": [
    "def getTrackFeatures(id):\n",
    "  meta = sp.track(id)\n",
    "  features = sp.audio_features(id)\n",
    "\n",
    "  # meta\n",
    "  name = meta['name']\n",
    "  album = meta['album']['name']\n",
    "  artist = meta['album']['artists'][0]['name']\n",
    "  release_date = meta['album']['release_date']\n",
    "  length = meta['duration_ms']\n",
    "  popularity = meta['popularity']\n",
    "\n",
    "  # features\n",
    "  if features == [None]:\n",
    "    acousticness = 0\n",
    "    danceability = 0\n",
    "    energy = 0\n",
    "    instrumentalness = 0\n",
    "    liveness = 0\n",
    "    loudness = 0\n",
    "    speechiness = 0\n",
    "    tempo = 0\n",
    "    time_signature = 0\n",
    "  else:  \n",
    "    acousticness = features[0]['acousticness']\n",
    "    danceability = features[0]['danceability']\n",
    "    energy = features[0]['energy']\n",
    "    instrumentalness = features[0]['instrumentalness']\n",
    "    liveness = features[0]['liveness']\n",
    "    loudness = features[0]['loudness']\n",
    "    speechiness = features[0]['speechiness']\n",
    "    tempo = features[0]['tempo']\n",
    "    time_signature = features[0]['time_signature']\n",
    "\n",
    "  track = [name, album, artist, release_date, length, popularity, acousticness\n",
    "           , danceability, energy, instrumentalness, liveness, loudness, speechiness, tempo, time_signature]\n",
    "  return track"
   ]
  },
  {
   "cell_type": "code",
   "execution_count": 353,
   "id": "7bd328a7",
   "metadata": {
    "tags": []
   },
   "outputs": [],
   "source": [
    "songs_details=[]\n",
    "for i in range(0,len(albums_songs_f)):\n",
    "    songs_details.append(getTrackFeatures(albums_songs_f[i][1]))\n",
    "\n",
    "df = pd.DataFrame(songs_details,columns = ['name', 'album', 'artist', 'release_date', 'length', 'popularity'\n",
    "                                           , 'acousticness', 'danceability', 'energy', 'instrumentalness'\n",
    "                                           , 'liveness', 'loudness', 'speechiness', 'tempo', 'time_signature'])\n",
    "\n"
   ]
  },
  {
   "cell_type": "code",
   "execution_count": 354,
   "id": "26201790-6e6f-4b2e-a137-311b31c1d090",
   "metadata": {},
   "outputs": [
    {
     "data": {
      "text/html": [
       "<div>\n",
       "<style scoped>\n",
       "    .dataframe tbody tr th:only-of-type {\n",
       "        vertical-align: middle;\n",
       "    }\n",
       "\n",
       "    .dataframe tbody tr th {\n",
       "        vertical-align: top;\n",
       "    }\n",
       "\n",
       "    .dataframe thead th {\n",
       "        text-align: right;\n",
       "    }\n",
       "</style>\n",
       "<table border=\"1\" class=\"dataframe\">\n",
       "  <thead>\n",
       "    <tr style=\"text-align: right;\">\n",
       "      <th></th>\n",
       "      <th>name</th>\n",
       "      <th>album</th>\n",
       "      <th>artist</th>\n",
       "      <th>release_date</th>\n",
       "      <th>length</th>\n",
       "      <th>popularity</th>\n",
       "      <th>acousticness</th>\n",
       "      <th>danceability</th>\n",
       "      <th>energy</th>\n",
       "      <th>instrumentalness</th>\n",
       "      <th>liveness</th>\n",
       "      <th>loudness</th>\n",
       "      <th>speechiness</th>\n",
       "      <th>tempo</th>\n",
       "      <th>time_signature</th>\n",
       "    </tr>\n",
       "  </thead>\n",
       "  <tbody>\n",
       "    <tr>\n",
       "      <th>0</th>\n",
       "      <td>Tuned In Freestyle</td>\n",
       "      <td>Something for Thee Hotties</td>\n",
       "      <td>Megan Thee Stallion</td>\n",
       "      <td>2021-10-29</td>\n",
       "      <td>123636</td>\n",
       "      <td>66</td>\n",
       "      <td>0.000108</td>\n",
       "      <td>0.850</td>\n",
       "      <td>0.836</td>\n",
       "      <td>0.000115</td>\n",
       "      <td>0.1390</td>\n",
       "      <td>-6.689</td>\n",
       "      <td>0.0789</td>\n",
       "      <td>131.961</td>\n",
       "      <td>4</td>\n",
       "    </tr>\n",
       "    <tr>\n",
       "      <th>1</th>\n",
       "      <td>Megan Monday Freestyle</td>\n",
       "      <td>Something for Thee Hotties</td>\n",
       "      <td>Megan Thee Stallion</td>\n",
       "      <td>2021-10-29</td>\n",
       "      <td>113684</td>\n",
       "      <td>65</td>\n",
       "      <td>0.005270</td>\n",
       "      <td>0.884</td>\n",
       "      <td>0.615</td>\n",
       "      <td>0.000000</td>\n",
       "      <td>0.2710</td>\n",
       "      <td>-5.352</td>\n",
       "      <td>0.1940</td>\n",
       "      <td>152.052</td>\n",
       "      <td>4</td>\n",
       "    </tr>\n",
       "    <tr>\n",
       "      <th>2</th>\n",
       "      <td>Trippy Skit (feat. Juicy J)</td>\n",
       "      <td>Something for Thee Hotties</td>\n",
       "      <td>Megan Thee Stallion</td>\n",
       "      <td>2021-10-29</td>\n",
       "      <td>72520</td>\n",
       "      <td>60</td>\n",
       "      <td>0.865000</td>\n",
       "      <td>0.601</td>\n",
       "      <td>0.181</td>\n",
       "      <td>0.000000</td>\n",
       "      <td>0.3510</td>\n",
       "      <td>-19.144</td>\n",
       "      <td>0.8220</td>\n",
       "      <td>99.153</td>\n",
       "      <td>5</td>\n",
       "    </tr>\n",
       "    <tr>\n",
       "      <th>3</th>\n",
       "      <td>Southside Forever Freestyle</td>\n",
       "      <td>Something for Thee Hotties</td>\n",
       "      <td>Megan Thee Stallion</td>\n",
       "      <td>2021-10-29</td>\n",
       "      <td>177230</td>\n",
       "      <td>63</td>\n",
       "      <td>0.001510</td>\n",
       "      <td>0.940</td>\n",
       "      <td>0.357</td>\n",
       "      <td>0.000084</td>\n",
       "      <td>0.3560</td>\n",
       "      <td>-6.693</td>\n",
       "      <td>0.1510</td>\n",
       "      <td>129.951</td>\n",
       "      <td>4</td>\n",
       "    </tr>\n",
       "    <tr>\n",
       "      <th>4</th>\n",
       "      <td>Outta Town Freestyle</td>\n",
       "      <td>Something for Thee Hotties</td>\n",
       "      <td>Megan Thee Stallion</td>\n",
       "      <td>2021-10-29</td>\n",
       "      <td>80816</td>\n",
       "      <td>63</td>\n",
       "      <td>0.007130</td>\n",
       "      <td>0.689</td>\n",
       "      <td>0.675</td>\n",
       "      <td>0.027900</td>\n",
       "      <td>0.1110</td>\n",
       "      <td>-8.303</td>\n",
       "      <td>0.0845</td>\n",
       "      <td>196.033</td>\n",
       "      <td>4</td>\n",
       "    </tr>\n",
       "    <tr>\n",
       "      <th>...</th>\n",
       "      <td>...</td>\n",
       "      <td>...</td>\n",
       "      <td>...</td>\n",
       "      <td>...</td>\n",
       "      <td>...</td>\n",
       "      <td>...</td>\n",
       "      <td>...</td>\n",
       "      <td>...</td>\n",
       "      <td>...</td>\n",
       "      <td>...</td>\n",
       "      <td>...</td>\n",
       "      <td>...</td>\n",
       "      <td>...</td>\n",
       "      <td>...</td>\n",
       "      <td>...</td>\n",
       "    </tr>\n",
       "    <tr>\n",
       "      <th>908</th>\n",
       "      <td>Stick to the Status Quo - From \"High School Mu...</td>\n",
       "      <td>Just for a Moment (From \"High School Musical: ...</td>\n",
       "      <td>Olivia Rodrigo</td>\n",
       "      <td>2020-01-01</td>\n",
       "      <td>117400</td>\n",
       "      <td>39</td>\n",
       "      <td>0.003510</td>\n",
       "      <td>0.405</td>\n",
       "      <td>0.778</td>\n",
       "      <td>0.000000</td>\n",
       "      <td>0.1350</td>\n",
       "      <td>-4.884</td>\n",
       "      <td>0.0447</td>\n",
       "      <td>159.894</td>\n",
       "      <td>4</td>\n",
       "    </tr>\n",
       "    <tr>\n",
       "      <th>909</th>\n",
       "      <td>Out of the Old - From \"High School Musical: Th...</td>\n",
       "      <td>Out of the Old (From \"High School Musical: The...</td>\n",
       "      <td>Olivia Rodrigo</td>\n",
       "      <td>2019-12-18</td>\n",
       "      <td>168688</td>\n",
       "      <td>51</td>\n",
       "      <td>0.560000</td>\n",
       "      <td>0.624</td>\n",
       "      <td>0.621</td>\n",
       "      <td>0.000000</td>\n",
       "      <td>0.1330</td>\n",
       "      <td>-6.756</td>\n",
       "      <td>0.1190</td>\n",
       "      <td>113.011</td>\n",
       "      <td>4</td>\n",
       "    </tr>\n",
       "    <tr>\n",
       "      <th>910</th>\n",
       "      <td>All I Want - From \"High School Musical: The Mu...</td>\n",
       "      <td>All I Want (From \"High School Musical: The Mus...</td>\n",
       "      <td>Olivia Rodrigo</td>\n",
       "      <td>2019-11-27</td>\n",
       "      <td>177322</td>\n",
       "      <td>75</td>\n",
       "      <td>0.090200</td>\n",
       "      <td>0.376</td>\n",
       "      <td>0.430</td>\n",
       "      <td>0.000000</td>\n",
       "      <td>0.0912</td>\n",
       "      <td>-6.585</td>\n",
       "      <td>0.0328</td>\n",
       "      <td>77.599</td>\n",
       "      <td>3</td>\n",
       "    </tr>\n",
       "    <tr>\n",
       "      <th>911</th>\n",
       "      <td>What I've Been Looking For - From \"High School...</td>\n",
       "      <td>All I Want (From \"High School Musical: The Mus...</td>\n",
       "      <td>Olivia Rodrigo</td>\n",
       "      <td>2019-11-27</td>\n",
       "      <td>125096</td>\n",
       "      <td>48</td>\n",
       "      <td>0.827000</td>\n",
       "      <td>0.734</td>\n",
       "      <td>0.291</td>\n",
       "      <td>0.000000</td>\n",
       "      <td>0.1440</td>\n",
       "      <td>-7.921</td>\n",
       "      <td>0.0418</td>\n",
       "      <td>135.779</td>\n",
       "      <td>4</td>\n",
       "    </tr>\n",
       "    <tr>\n",
       "      <th>912</th>\n",
       "      <td>Wondering - From \"High School Musical: The Mus...</td>\n",
       "      <td>Wondering (From \"High School Musical: The Musi...</td>\n",
       "      <td>Olivia Rodrigo</td>\n",
       "      <td>2019-11-12</td>\n",
       "      <td>225381</td>\n",
       "      <td>66</td>\n",
       "      <td>0.808000</td>\n",
       "      <td>0.469</td>\n",
       "      <td>0.444</td>\n",
       "      <td>0.000000</td>\n",
       "      <td>0.0932</td>\n",
       "      <td>-7.064</td>\n",
       "      <td>0.0396</td>\n",
       "      <td>129.385</td>\n",
       "      <td>4</td>\n",
       "    </tr>\n",
       "  </tbody>\n",
       "</table>\n",
       "<p>913 rows × 15 columns</p>\n",
       "</div>"
      ],
      "text/plain": [
       "                                                  name  \\\n",
       "0                                   Tuned In Freestyle   \n",
       "1                               Megan Monday Freestyle   \n",
       "2                          Trippy Skit (feat. Juicy J)   \n",
       "3                          Southside Forever Freestyle   \n",
       "4                                 Outta Town Freestyle   \n",
       "..                                                 ...   \n",
       "908  Stick to the Status Quo - From \"High School Mu...   \n",
       "909  Out of the Old - From \"High School Musical: Th...   \n",
       "910  All I Want - From \"High School Musical: The Mu...   \n",
       "911  What I've Been Looking For - From \"High School...   \n",
       "912  Wondering - From \"High School Musical: The Mus...   \n",
       "\n",
       "                                                 album               artist  \\\n",
       "0                           Something for Thee Hotties  Megan Thee Stallion   \n",
       "1                           Something for Thee Hotties  Megan Thee Stallion   \n",
       "2                           Something for Thee Hotties  Megan Thee Stallion   \n",
       "3                           Something for Thee Hotties  Megan Thee Stallion   \n",
       "4                           Something for Thee Hotties  Megan Thee Stallion   \n",
       "..                                                 ...                  ...   \n",
       "908  Just for a Moment (From \"High School Musical: ...       Olivia Rodrigo   \n",
       "909  Out of the Old (From \"High School Musical: The...       Olivia Rodrigo   \n",
       "910  All I Want (From \"High School Musical: The Mus...       Olivia Rodrigo   \n",
       "911  All I Want (From \"High School Musical: The Mus...       Olivia Rodrigo   \n",
       "912  Wondering (From \"High School Musical: The Musi...       Olivia Rodrigo   \n",
       "\n",
       "    release_date  length  popularity  acousticness  danceability  energy  \\\n",
       "0     2021-10-29  123636          66      0.000108         0.850   0.836   \n",
       "1     2021-10-29  113684          65      0.005270         0.884   0.615   \n",
       "2     2021-10-29   72520          60      0.865000         0.601   0.181   \n",
       "3     2021-10-29  177230          63      0.001510         0.940   0.357   \n",
       "4     2021-10-29   80816          63      0.007130         0.689   0.675   \n",
       "..           ...     ...         ...           ...           ...     ...   \n",
       "908   2020-01-01  117400          39      0.003510         0.405   0.778   \n",
       "909   2019-12-18  168688          51      0.560000         0.624   0.621   \n",
       "910   2019-11-27  177322          75      0.090200         0.376   0.430   \n",
       "911   2019-11-27  125096          48      0.827000         0.734   0.291   \n",
       "912   2019-11-12  225381          66      0.808000         0.469   0.444   \n",
       "\n",
       "     instrumentalness  liveness  loudness  speechiness    tempo  \\\n",
       "0            0.000115    0.1390    -6.689       0.0789  131.961   \n",
       "1            0.000000    0.2710    -5.352       0.1940  152.052   \n",
       "2            0.000000    0.3510   -19.144       0.8220   99.153   \n",
       "3            0.000084    0.3560    -6.693       0.1510  129.951   \n",
       "4            0.027900    0.1110    -8.303       0.0845  196.033   \n",
       "..                ...       ...       ...          ...      ...   \n",
       "908          0.000000    0.1350    -4.884       0.0447  159.894   \n",
       "909          0.000000    0.1330    -6.756       0.1190  113.011   \n",
       "910          0.000000    0.0912    -6.585       0.0328   77.599   \n",
       "911          0.000000    0.1440    -7.921       0.0418  135.779   \n",
       "912          0.000000    0.0932    -7.064       0.0396  129.385   \n",
       "\n",
       "     time_signature  \n",
       "0                 4  \n",
       "1                 4  \n",
       "2                 5  \n",
       "3                 4  \n",
       "4                 4  \n",
       "..              ...  \n",
       "908               4  \n",
       "909               4  \n",
       "910               3  \n",
       "911               4  \n",
       "912               4  \n",
       "\n",
       "[913 rows x 15 columns]"
      ]
     },
     "execution_count": 354,
     "metadata": {},
     "output_type": "execute_result"
    }
   ],
   "source": [
    "df"
   ]
  },
  {
   "cell_type": "code",
   "execution_count": 355,
   "id": "a8dba62d-2864-4f88-88c5-acaa704280a2",
   "metadata": {},
   "outputs": [],
   "source": [
    "df = df.drop(df[(df.artist != artists_for_analysis[0]) \n",
    "                & (df.artist != artists_for_analysis[1]) \n",
    "                & (df.artist != artists_for_analysis[2])\n",
    "                & (df.artist != artists_for_analysis[3])\n",
    "                & (df.artist != artists_for_analysis[4])\n",
    "                & (df.artist != artists_for_analysis[5])].index)\n",
    "df=df.rename(columns=df.iloc[0]).drop(df.index[0])"
   ]
  },
  {
   "cell_type": "code",
   "execution_count": 356,
   "id": "ff279d34",
   "metadata": {
    "tags": []
   },
   "outputs": [],
   "source": [
    "songs_details=[]\n",
    "songs_details=df.values.tolist() \n",
    "     \n",
    "# Printing the final list"
   ]
  },
  {
   "cell_type": "code",
   "execution_count": 357,
   "id": "d5a2cc49",
   "metadata": {
    "tags": []
   },
   "outputs": [],
   "source": [
    "###Connection to Google Sheets###"
   ]
  },
  {
   "cell_type": "code",
   "execution_count": 358,
   "id": "8bd90fec-546b-4d66-bf17-bd3b94838f4a",
   "metadata": {
    "tags": []
   },
   "outputs": [
    {
     "name": "stdout",
     "output_type": "stream",
     "text": [
      "Requirement already satisfied: gspread in /opt/conda/lib/python3.7/site-packages (4.0.1)\n",
      "Requirement already satisfied: google-auth>=1.12.0 in /opt/conda/lib/python3.7/site-packages (from gspread) (2.3.0)\n",
      "Requirement already satisfied: google-auth-oauthlib>=0.4.1 in /opt/conda/lib/python3.7/site-packages (from gspread) (0.4.6)\n",
      "Requirement already satisfied: pyasn1-modules>=0.2.1 in /opt/conda/lib/python3.7/site-packages (from google-auth>=1.12.0->gspread) (0.2.7)\n",
      "Requirement already satisfied: setuptools>=40.3.0 in /opt/conda/lib/python3.7/site-packages (from google-auth>=1.12.0->gspread) (58.2.0)\n",
      "Requirement already satisfied: cachetools<5.0,>=2.0.0 in /opt/conda/lib/python3.7/site-packages (from google-auth>=1.12.0->gspread) (4.2.4)\n",
      "Requirement already satisfied: rsa<5,>=3.1.4 in /opt/conda/lib/python3.7/site-packages (from google-auth>=1.12.0->gspread) (4.7.2)\n",
      "Requirement already satisfied: requests-oauthlib>=0.7.0 in /opt/conda/lib/python3.7/site-packages (from google-auth-oauthlib>=0.4.1->gspread) (1.3.0)\n",
      "Requirement already satisfied: pyasn1<0.5.0,>=0.4.6 in /opt/conda/lib/python3.7/site-packages (from pyasn1-modules>=0.2.1->google-auth>=1.12.0->gspread) (0.4.8)\n",
      "Requirement already satisfied: requests>=2.0.0 in /opt/conda/lib/python3.7/site-packages (from requests-oauthlib>=0.7.0->google-auth-oauthlib>=0.4.1->gspread) (2.25.1)\n",
      "Requirement already satisfied: oauthlib>=3.0.0 in /opt/conda/lib/python3.7/site-packages (from requests-oauthlib>=0.7.0->google-auth-oauthlib>=0.4.1->gspread) (3.1.1)\n",
      "Requirement already satisfied: chardet<5,>=3.0.2 in /opt/conda/lib/python3.7/site-packages (from requests>=2.0.0->requests-oauthlib>=0.7.0->google-auth-oauthlib>=0.4.1->gspread) (4.0.0)\n",
      "Requirement already satisfied: urllib3<1.27,>=1.21.1 in /opt/conda/lib/python3.7/site-packages (from requests>=2.0.0->requests-oauthlib>=0.7.0->google-auth-oauthlib>=0.4.1->gspread) (1.26.7)\n",
      "Requirement already satisfied: idna<3,>=2.5 in /opt/conda/lib/python3.7/site-packages (from requests>=2.0.0->requests-oauthlib>=0.7.0->google-auth-oauthlib>=0.4.1->gspread) (2.10)\n",
      "Requirement already satisfied: certifi>=2017.4.17 in /opt/conda/lib/python3.7/site-packages (from requests>=2.0.0->requests-oauthlib>=0.7.0->google-auth-oauthlib>=0.4.1->gspread) (2021.10.8)\n",
      "Note: you may need to restart the kernel to use updated packages.\n"
     ]
    }
   ],
   "source": [
    "pip install gspread"
   ]
  },
  {
   "cell_type": "code",
   "execution_count": 359,
   "id": "f45036d2-f929-46f3-97d7-c72ed95a497e",
   "metadata": {
    "tags": []
   },
   "outputs": [
    {
     "name": "stdout",
     "output_type": "stream",
     "text": [
      "Requirement already satisfied: oauth2client in /opt/conda/lib/python3.7/site-packages (4.1.3)\n",
      "Requirement already satisfied: six>=1.6.1 in /opt/conda/lib/python3.7/site-packages (from oauth2client) (1.16.0)\n",
      "Requirement already satisfied: pyasn1>=0.1.7 in /opt/conda/lib/python3.7/site-packages (from oauth2client) (0.4.8)\n",
      "Requirement already satisfied: rsa>=3.1.4 in /opt/conda/lib/python3.7/site-packages (from oauth2client) (4.7.2)\n",
      "Requirement already satisfied: pyasn1-modules>=0.0.5 in /opt/conda/lib/python3.7/site-packages (from oauth2client) (0.2.7)\n",
      "Requirement already satisfied: httplib2>=0.9.1 in /opt/conda/lib/python3.7/site-packages (from oauth2client) (0.20.1)\n",
      "Requirement already satisfied: pyparsing<3,>=2.4.2 in /opt/conda/lib/python3.7/site-packages (from httplib2>=0.9.1->oauth2client) (2.4.7)\n",
      "Note: you may need to restart the kernel to use updated packages.\n"
     ]
    }
   ],
   "source": [
    "pip install oauth2client"
   ]
  },
  {
   "cell_type": "code",
   "execution_count": 360,
   "id": "8ab7e67e",
   "metadata": {
    "tags": []
   },
   "outputs": [],
   "source": [
    "import gspread\n",
    "from oauth2client.service_account import ServiceAccountCredentials\n",
    "from pprint import pprint"
   ]
  },
  {
   "cell_type": "code",
   "execution_count": 361,
   "id": "7bc7b340",
   "metadata": {
    "tags": []
   },
   "outputs": [],
   "source": [
    "scope = [\"https://spreadsheets.google.com/feeds\"\n",
    "         ,'https://www.googleapis.com/auth/spreadsheets'\n",
    "         ,\"https://www.googleapis.com/auth/drive.file\"\n",
    "         ,\"https://www.googleapis.com/auth/drive\"]"
   ]
  },
  {
   "cell_type": "code",
   "execution_count": 362,
   "id": "ade91b64",
   "metadata": {
    "tags": []
   },
   "outputs": [],
   "source": [
    "creds = ServiceAccountCredentials.from_json_keyfile_name(\"creds.json\", scope)"
   ]
  },
  {
   "cell_type": "code",
   "execution_count": 363,
   "id": "d2f6b8ba",
   "metadata": {
    "tags": []
   },
   "outputs": [],
   "source": [
    "client = gspread.authorize(creds)"
   ]
  },
  {
   "cell_type": "code",
   "execution_count": 364,
   "id": "455901c5",
   "metadata": {
    "tags": []
   },
   "outputs": [],
   "source": [
    "sheet = client.open(\"SpotifyPythonData-PythonAPI\").sheet1"
   ]
  },
  {
   "cell_type": "code",
   "execution_count": 365,
   "id": "d923f9b4",
   "metadata": {
    "tags": []
   },
   "outputs": [
    {
     "data": {
      "text/plain": [
       "{'spreadsheetId': '1QBEdAv6rnyyjGt4kVbdW8Ue8bcCSIyVxMtrv7nj-5vk',\n",
       " 'clearedRanges': ['spotify_artists!A2:V28060']}"
      ]
     },
     "execution_count": 365,
     "metadata": {},
     "output_type": "execute_result"
    }
   ],
   "source": [
    "sheet.batch_clear([\"A2:V\"])"
   ]
  },
  {
   "cell_type": "code",
   "execution_count": 368,
   "id": "0e304c90",
   "metadata": {
    "tags": []
   },
   "outputs": [
    {
     "data": {
      "text/plain": [
       "{'spreadsheetId': '1QBEdAv6rnyyjGt4kVbdW8Ue8bcCSIyVxMtrv7nj-5vk',\n",
       " 'updates': {'spreadsheetId': '1QBEdAv6rnyyjGt4kVbdW8Ue8bcCSIyVxMtrv7nj-5vk',\n",
       "  'updatedRange': 'spotify_artists!A2:O730',\n",
       "  'updatedRows': 729,\n",
       "  'updatedColumns': 15,\n",
       "  'updatedCells': 10935}}"
      ]
     },
     "execution_count": 368,
     "metadata": {},
     "output_type": "execute_result"
    }
   ],
   "source": [
    "insertRow = songs_details\n",
    "sheet.insert_rows(insertRow,2)"
   ]
  },
  {
   "cell_type": "code",
   "execution_count": 369,
   "id": "ae23a644",
   "metadata": {},
   "outputs": [
    {
     "name": "stdout",
     "output_type": "stream",
     "text": [
      "Code executed, refresh the dashboard\n"
     ]
    }
   ],
   "source": [
    "print(\"Code executed, refresh the dashboard\")"
   ]
  }
 ],
 "metadata": {
  "environment": {
   "kernel": "python3",
   "name": "common-cpu.m82",
   "type": "gcloud",
   "uri": "gcr.io/deeplearning-platform-release/base-cpu:m82"
  },
  "kernelspec": {
   "display_name": "Python 3",
   "language": "python",
   "name": "python3"
  },
  "language_info": {
   "codemirror_mode": {
    "name": "ipython",
    "version": 3
   },
   "file_extension": ".py",
   "mimetype": "text/x-python",
   "name": "python",
   "nbconvert_exporter": "python",
   "pygments_lexer": "ipython3",
   "version": "3.7.10"
  }
 },
 "nbformat": 4,
 "nbformat_minor": 5
}
