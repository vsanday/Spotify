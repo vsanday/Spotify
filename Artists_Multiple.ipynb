{
 "cells": [
  {
   "cell_type": "code",
   "execution_count": 1,
   "id": "6cec9786",
   "metadata": {},
   "outputs": [
    {
     "data": {
      "text/plain": [
       "'/Users/vaibhavsrinivasanday/Documents/Career/PythonStuff/Spotify/Spotify_Python/Spotify_automated/SpotifyPlayList'"
      ]
     },
     "execution_count": 1,
     "metadata": {},
     "output_type": "execute_result"
    }
   ],
   "source": [
    "pwd"
   ]
  },
  {
   "cell_type": "code",
   "execution_count": 2,
   "id": "f274fa99",
   "metadata": {},
   "outputs": [
    {
     "name": "stdout",
     "output_type": "stream",
     "text": [
      "Requirement already satisfied: spotipy in /Users/vaibhavsrinivasanday/opt/anaconda3/lib/python3.8/site-packages (2.19.0)\n",
      "Requirement already satisfied: requests>=2.25.0 in /Users/vaibhavsrinivasanday/opt/anaconda3/lib/python3.8/site-packages (from spotipy) (2.25.1)\n",
      "Requirement already satisfied: urllib3>=1.26.0 in /Users/vaibhavsrinivasanday/opt/anaconda3/lib/python3.8/site-packages (from spotipy) (1.26.4)\n",
      "Requirement already satisfied: six>=1.15.0 in /Users/vaibhavsrinivasanday/opt/anaconda3/lib/python3.8/site-packages (from spotipy) (1.15.0)\n",
      "Requirement already satisfied: chardet<5,>=3.0.2 in /Users/vaibhavsrinivasanday/opt/anaconda3/lib/python3.8/site-packages (from requests>=2.25.0->spotipy) (4.0.0)\n",
      "Requirement already satisfied: idna<3,>=2.5 in /Users/vaibhavsrinivasanday/opt/anaconda3/lib/python3.8/site-packages (from requests>=2.25.0->spotipy) (2.10)\n",
      "Requirement already satisfied: certifi>=2017.4.17 in /Users/vaibhavsrinivasanday/opt/anaconda3/lib/python3.8/site-packages (from requests>=2.25.0->spotipy) (2020.12.5)\n",
      "Note: you may need to restart the kernel to use updated packages.\n"
     ]
    }
   ],
   "source": [
    "pip install spotipy"
   ]
  },
  {
   "cell_type": "code",
   "execution_count": 3,
   "id": "a424ded6",
   "metadata": {},
   "outputs": [
    {
     "name": "stdout",
     "output_type": "stream",
     "text": [
      "Requirement already satisfied: statistics in /Users/vaibhavsrinivasanday/opt/anaconda3/lib/python3.8/site-packages (1.0.3.5)\n",
      "Requirement already satisfied: docutils>=0.3 in /Users/vaibhavsrinivasanday/opt/anaconda3/lib/python3.8/site-packages (from statistics) (0.17)\n",
      "Note: you may need to restart the kernel to use updated packages.\n"
     ]
    }
   ],
   "source": [
    "pip install statistics"
   ]
  },
  {
   "cell_type": "code",
   "execution_count": 11,
   "id": "8569e82d",
   "metadata": {},
   "outputs": [],
   "source": [
    "import spotipy\n",
    "import statistics as st\n",
    "from spotipy.oauth2 import SpotifyClientCredentials\n",
    "import pandas as pd\n",
    "import time\n",
    "import matplotlib.pyplot as plt\n",
    "import numpy as np"
   ]
  },
  {
   "cell_type": "code",
   "execution_count": 12,
   "id": "a8859f07",
   "metadata": {},
   "outputs": [],
   "source": [
    "client_id = 'fbfd8e76c5e849d8b438f9abcb9525a7'\n",
    "client_secret = '19d9be5c3f5240368368cc38932de065'\n",
    "\n",
    "client_credentials_manager = SpotifyClientCredentials(client_id, client_secret)\n",
    "sp = spotipy.Spotify(client_credentials_manager=client_credentials_manager)"
   ]
  },
  {
   "cell_type": "code",
   "execution_count": 13,
   "id": "4b4d5ca8",
   "metadata": {
    "scrolled": true
   },
   "outputs": [],
   "source": [
    "#the id here is the artist's Spotify id\n",
    "albums_info=[]\n",
    "artists=['6VuMaDnrHyPL1p4EHjYLi7','66CXWjxzNUsdJxJ2JdwvnR'\n",
    "         ,'1uNFoZAHBGtllmzznpCI3s'\n",
    "         ,'5cj0lLjcoR7YOSnhnX0Po5','6eUKZXaKkcviH0Ku9w2n3V'\n",
    "         ,'6M2wZ9GZgrQXHCFfjv46we','4dpARuHxo51G3z768sgnrY']\n",
    "for i in range(0,len(artists)):\n",
    "    albums_info.append(sp.artist_albums(artists[i]))\n",
    "\n",
    "album_names=[]\n",
    "album_ids=[]\n",
    "for k in range(0,len(albums_info)):\n",
    "    for l in range(0,len(albums_info[k]['items'])):\n",
    "        album_names.append(albums_info[k]['items'][l]['name'])\n",
    "        album_ids.append(albums_info[k]['items'][l]['id'])\n",
    "\n",
    "albums_final=np.array([album_names,album_ids]).T.tolist()"
   ]
  },
  {
   "cell_type": "code",
   "execution_count": 14,
   "id": "6d8b2b5f",
   "metadata": {},
   "outputs": [
    {
     "data": {
      "text/plain": [
       "140"
      ]
     },
     "execution_count": 14,
     "metadata": {},
     "output_type": "execute_result"
    }
   ],
   "source": [
    "len(albums_final)"
   ]
  },
  {
   "cell_type": "code",
   "execution_count": 15,
   "id": "167ce1f3",
   "metadata": {},
   "outputs": [],
   "source": [
    "#album_songs=[]\n",
    "album_songs_name=[]\n",
    "album_songs_id=[]\n",
    "album_ids=[]\n",
    "album_ids_new=[]\n",
    "#Loop through to get the album ids for each album\n",
    "for k in range(0,len(albums_final)):\n",
    "    album_ids.append(albums_final[k][1])\n",
    "    \n",
    "for j in range(0,len(album_ids)):\n",
    "    test=sp.album_tracks(album_ids[j])\n",
    "    for i in range(0,len(test['items'])):\n",
    "        album_songs_name.append(test['items'][i]['name'])\n",
    "        album_songs_id.append(test['items'][i]['id'])\n",
    "        \n",
    "albums_songs_f=np.array([album_songs_name,album_songs_id]).T.tolist()"
   ]
  },
  {
   "cell_type": "code",
   "execution_count": 16,
   "id": "6f5aa7ea",
   "metadata": {},
   "outputs": [],
   "source": [
    "def getTrackFeatures(id):\n",
    "  meta = sp.track(id)\n",
    "  features = sp.audio_features(id)\n",
    "\n",
    "  # meta\n",
    "  name = meta['name']\n",
    "  album = meta['album']['name']\n",
    "  artist = meta['album']['artists'][0]['name']\n",
    "  release_date = meta['album']['release_date']\n",
    "  length = meta['duration_ms']\n",
    "  popularity = meta['popularity']\n",
    "\n",
    "  # features\n",
    "  acousticness = features[0]['acousticness']\n",
    "  danceability = features[0]['danceability']\n",
    "  energy = features[0]['energy']\n",
    "  instrumentalness = features[0]['instrumentalness']\n",
    "  liveness = features[0]['liveness']\n",
    "  loudness = features[0]['loudness']\n",
    "  speechiness = features[0]['speechiness']\n",
    "  tempo = features[0]['tempo']\n",
    "  time_signature = features[0]['time_signature']\n",
    "\n",
    "  track = [name, album, artist, release_date, length, popularity, danceability, acousticness, energy, instrumentalness, liveness, loudness, speechiness, tempo, time_signature]\n",
    "  return track"
   ]
  },
  {
   "cell_type": "code",
   "execution_count": 17,
   "id": "7bd328a7",
   "metadata": {},
   "outputs": [],
   "source": [
    "songs_details=[]\n",
    "for i in range(0,len(albums_songs_f)):\n",
    "    songs_details.append(getTrackFeatures(albums_songs_f[i][1]))\n",
    "\n",
    "df = pd.DataFrame(songs_details, columns = ['name', 'album', 'artist', 'release_date', 'length', 'popularity', 'acousticness', 'danceability', 'energy', 'instrumentalness', 'liveness', 'loudness', 'speechiness', 'tempo', 'time_signature'])\n",
    "df.to_csv(\"spotify_artists.csv\", sep = ',')"
   ]
  },
  {
   "cell_type": "code",
   "execution_count": 18,
   "id": "ff279d34",
   "metadata": {},
   "outputs": [
    {
     "data": {
      "text/plain": [
       "'/Users/vaibhavsrinivasanday/Documents/Career/PythonStuff/Spotify/Spotify_Python/Spotify_automated/SpotifyPlayList'"
      ]
     },
     "execution_count": 18,
     "metadata": {},
     "output_type": "execute_result"
    }
   ],
   "source": [
    "pwd"
   ]
  },
  {
   "cell_type": "code",
   "execution_count": null,
   "id": "114ff9b2",
   "metadata": {},
   "outputs": [],
   "source": []
  }
 ],
 "metadata": {
  "kernelspec": {
   "display_name": "Python 3",
   "language": "python",
   "name": "python3"
  },
  "language_info": {
   "codemirror_mode": {
    "name": "ipython",
    "version": 3
   },
   "file_extension": ".py",
   "mimetype": "text/x-python",
   "name": "python",
   "nbconvert_exporter": "python",
   "pygments_lexer": "ipython3",
   "version": "3.8.8"
  }
 },
 "nbformat": 4,
 "nbformat_minor": 5
}
